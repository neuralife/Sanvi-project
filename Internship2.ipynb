{
 "cells": [
  {
   "cell_type": "markdown",
   "id": "7189fb5a",
   "metadata": {},
   "source": [
    "## Python Exercise"
   ]
  },
  {
   "cell_type": "markdown",
   "id": "minus-theory",
   "metadata": {},
   "source": [
    "This is the online version of Sanvi's code"
   ]
  },
  {
   "cell_type": "code",
   "execution_count": 1,
   "id": "0add80a1",
   "metadata": {},
   "outputs": [],
   "source": [
    "import numpy as np\n",
    "import scipy as sp\n",
    "import matplotlib.pyplot as plt\n",
    "import os \n",
    "import sys\n",
    "import random\n",
    "from scipy.stats import expon"
   ]
  },
  {
   "cell_type": "markdown",
   "id": "67c41c78",
   "metadata": {},
   "source": [
    "### Returns Vector of size a with distype distribution"
   ]
  },
  {
   "cell_type": "code",
   "execution_count": 2,
   "id": "ce7699b6",
   "metadata": {},
   "outputs": [],
   "source": [
    "def vector_generator(a,distype):\n",
    "    arr = np.zeros(a)\n",
    "    if (distype == 'binary'):\n",
    "        arr[:a//2] = 1\n",
    "        np.random.shuffle(arr)\n",
    "    elif (distype == 'expon'):\n",
    "        arr = expon.rvs(scale=1,loc=0,size=a)\n",
    "    else:\n",
    "        print('invalid type value')\n",
    "    #print(arr)\n",
    "    return arr\n",
    "    "
   ]
  },
  {
   "cell_type": "markdown",
   "id": "f3ec9470",
   "metadata": {},
   "source": [
    "### Returns r x c Matrix of different types of distributions"
   ]
  },
  {
   "cell_type": "code",
   "execution_count": 3,
   "id": "5baac873",
   "metadata": {},
   "outputs": [],
   "source": [
    "def matrix_generator(row, column, distype, shape=0, scale=0):\n",
    "    if (distype == 'random'):\n",
    "        a = np.random.rand(row, column)\n",
    "    elif (distype == 'uniform'):\n",
    "        a = np.random.uniform(0, 25, row*column)\n",
    "        a = a.reshape(row, column)\n",
    "    elif (distype == 'gaussian'):\n",
    "        a = np.random.normal(loc=shape,scale=scale,size=(row,column))\n",
    "    elif (distype == 'exponential'):\n",
    "        a = np.random.exponential(size=(row,column))\n",
    "    elif (distype == 'gamma'):\n",
    "        a = np.random.gamma(shape, scale, row*column)\n",
    "        a = a.reshape(row, column)\n",
    "    else:\n",
    "        print('invalid type value')\n",
    "        \n",
    "    #print(a)\n",
    "    return a"
   ]
  },
  {
   "cell_type": "markdown",
   "id": "143ed535",
   "metadata": {},
   "source": [
    "### Returns Matrix Multiplication of Vector of size a (binary distribution) and Matrix of size a x b"
   ]
  },
  {
   "cell_type": "code",
   "execution_count": 4,
   "id": "b29f6e5e",
   "metadata": {},
   "outputs": [],
   "source": [
    "def output_vector_generator(a, b, distype, shape=2, scale=3):\n",
    "    return vector_generator(a, 'binary') @ matrix_generator(a, b, distype, shape, scale)"
   ]
  },
  {
   "cell_type": "markdown",
   "id": "1d8e1dd6",
   "metadata": {},
   "source": [
    "### Returns Matrix Multiplication of Matrix a and Matrix b"
   ]
  },
  {
   "cell_type": "code",
   "execution_count": 5,
   "id": "0c546bd1",
   "metadata": {},
   "outputs": [],
   "source": [
    "def matrix_multiply(a,b):\n",
    "    return a @ b"
   ]
  },
  {
   "cell_type": "markdown",
   "id": "398b8bfc",
   "metadata": {},
   "source": [
    "### Output"
   ]
  },
  {
   "cell_type": "code",
   "execution_count": 6,
   "id": "e5d694a0",
   "metadata": {},
   "outputs": [],
   "source": [
    "smell_vector_size = 8;\n",
    "num_smells = 20;\n",
    "output_vector = output_vector_generator(smell_vector_size,num_smells,'gaussian');"
   ]
  },
  {
   "cell_type": "code",
   "execution_count": 7,
   "id": "87f3d634",
   "metadata": {},
   "outputs": [],
   "source": [
    "#print(c)"
   ]
  },
  {
   "cell_type": "code",
   "execution_count": 8,
   "id": "fa06021e",
   "metadata": {
    "scrolled": false
   },
   "outputs": [
    {
     "name": "stdout",
     "output_type": "stream",
     "text": [
      "8.278660100791866\n",
      "[ 4.13432853  1.80323153  6.0384097   8.74302906  6.79797048 21.91569016\n",
      " 16.06654359  9.68241947 11.5286018  11.63798434  1.0116239   0.74729302\n",
      "  7.06754161  6.08351937 10.66246075 10.83020839  9.17664501  1.95748288\n",
      "  9.32186881 10.3663496 ]\n",
      "[ 4.13432853  1.80323153  6.0384097   8.74302906  6.79797048 21.91569016\n",
      " 16.06654359  9.68241947 11.5286018  11.63798434  1.0116239   0.74729302\n",
      "  7.06754161  6.08351937 10.66246075 10.83020839  9.17664501  1.95748288\n",
      "  9.32186881 10.3663496 ]\n"
     ]
    }
   ],
   "source": [
    "#set negative values of output vector to zero \n",
    "output_vector[output_vector < 0] = 0\n",
    "\n",
    "#make copy of output vector\n",
    "output_vector2 = output_vector.copy()\n",
    "APL = output_vector.sum()/len(output_vector)\n",
    "print(APL)\n",
    "print(output_vector)\n",
    "print(output_vector2)"
   ]
  },
  {
   "cell_type": "code",
   "execution_count": 9,
   "id": "1b7b436a",
   "metadata": {},
   "outputs": [
    {
     "ename": "NameError",
     "evalue": "name 'c' is not defined",
     "output_type": "error",
     "traceback": [
      "\u001b[1;31m---------------------------------------------------------------------------\u001b[0m",
      "\u001b[1;31mNameError\u001b[0m                                 Traceback (most recent call last)",
      "\u001b[1;32m<ipython-input-9-1dd5973cae19>\u001b[0m in \u001b[0;36m<module>\u001b[1;34m\u001b[0m\n\u001b[1;32m----> 1\u001b[1;33m \u001b[0mprint\u001b[0m\u001b[1;33m(\u001b[0m\u001b[0mc\u001b[0m\u001b[1;33m)\u001b[0m\u001b[1;33m\u001b[0m\u001b[1;33m\u001b[0m\u001b[0m\n\u001b[0m",
      "\u001b[1;31mNameError\u001b[0m: name 'c' is not defined"
     ]
    }
   ],
   "source": [
    "print(c)"
   ]
  },
  {
   "cell_type": "markdown",
   "id": "cfc11c40",
   "metadata": {
    "scrolled": true
   },
   "source": [
    "### Reference Code \n",
    "constant = 1.017058973187651\n",
    "\n",
    "m = len(c)\n",
    "\n",
    "c = c - APL*constant\n",
    "\n",
    "print(c)\n",
    "\n",
    "c[c<0]=0\n",
    "\n",
    "x = np.linspace(1,max(c), m)\n",
    "\n",
    "print(x)\n",
    "\n",
    "print(m)\n",
    "\n",
    "x = range(1,m+1)\n",
    "\n",
    "print(x)\n",
    "\n",
    "plt.plot(x,c,\"r-\")\n",
    "\n",
    "plt.show()\n",
    "\n",
    "np.count_nonzero(c) / len(c)\n",
    "\n",
    "plt.plot(x,d,\"b-\")\n",
    "\n",
    "plt.show()"
   ]
  },
  {
   "cell_type": "markdown",
   "id": "2c90f0c9",
   "metadata": {},
   "source": [
    "### Calculate Kenyon Cells Output\n",
    "\n",
    "kc: output_vector\n",
    "\n",
    "aplcons: APL constant"
   ]
  },
  {
   "cell_type": "code",
   "execution_count": 10,
   "id": "wrong-father",
   "metadata": {},
   "outputs": [],
   "source": [
    "def CalKCOutput(kc, aplcons):\n",
    "    #apl is average value of KC\n",
    "    apl = sum(kc)/len(kc)\n",
    "    #print(type(kc))\n",
    "    \n",
    "    #kcout is apl * aplcons subtracted from KC values\n",
    "    kcout = kc.copy()\n",
    "    for i in range(len(kcout)):\n",
    "        kcout[i] = kc[i] - apl*aplcons\n",
    "    #print(kc,\"\\n\",apl*aplcons,\"\\n\",kcout)\n",
    "    \n",
    "    #return tuple of kc, kcout, apl\n",
    "    return(kc,kcout,apl)"
   ]
  },
  {
   "cell_type": "markdown",
   "id": "a2058625",
   "metadata": {},
   "source": [
    "### Returns fraction of Kenyon Cells fired\n",
    "\n",
    "vec: vector\n",
    "\n",
    "thresh: threshold"
   ]
  },
  {
   "cell_type": "code",
   "execution_count": 11,
   "id": "instrumental-closing",
   "metadata": {},
   "outputs": [],
   "source": [
    "def NumberAboveThresh(vec, thresh = 0):\n",
    "    res = len(vec[np.where(vec>thresh)]) / len(vec)\n",
    "    return(res)"
   ]
  },
  {
   "cell_type": "markdown",
   "id": "cc819917",
   "metadata": {},
   "source": [
    "### Fly Matrix"
   ]
  },
  {
   "cell_type": "code",
   "execution_count": 12,
   "id": "maritime-performance",
   "metadata": {},
   "outputs": [],
   "source": [
    "flymat = matrix_generator(smell_vector_size, num_smells, \"gaussian\", 4, 0.2)\n",
    "\n",
    "list_of_smell_vectors = []\n",
    "for i in range(num_smells):\n",
    "    list_of_smell_vectors.append(vector_generator(smell_vector_size, \"expon\"))\n",
    "    \n",
    "list_of_kenyon_cells = []\n",
    "for i in range(num_smells):\n",
    "    list_of_kenyon_cells.append(matrix_multiply(list_of_smell_vectors[i], flymat))"
   ]
  },
  {
   "cell_type": "markdown",
   "id": "c4cf38c1",
   "metadata": {},
   "source": [
    "### Calculate APL Constant"
   ]
  },
  {
   "cell_type": "code",
   "execution_count": 13,
   "id": "yellow-intervention",
   "metadata": {},
   "outputs": [],
   "source": [
    "def CalAPLconstant(kcout, topn):\n",
    "    kc = kcout[0]\n",
    "    kcsort = np.sort(kc)\n",
    "    posn = (1-(topn/100))*len(kcsort) - 1 #0-base, substract 1\n",
    "    posn = int(posn)\n",
    "    aplval = kcsort[posn]\n",
    "    res = aplval/kcout[2]\n",
    "    return(res)\n",
    "#CalAPLconstant(50,1000,5,\"gaussian\")"
   ]
  },
  {
   "cell_type": "code",
   "execution_count": 16,
   "id": "e6b9b123",
   "metadata": {},
   "outputs": [
    {
     "name": "stdout",
     "output_type": "stream",
     "text": [
      "1.0285798134311817\n"
     ]
    }
   ],
   "source": [
    "list_of_kenyon_celloutputs = []\n",
    "for i in range(num_smells):\n",
    "    list_of_kenyon_celloutputs.append(CalKCOutput(list_of_kenyon_cells[i],1.0242))\n",
    "    \n",
    "list_of_APL = []\n",
    "for i in range(num_smells):\n",
    "    list_of_APL.append(CalAPLconstant(list_of_kenyon_celloutputs[i], 5))\n",
    "print (sum(list_of_APL)/len(list_of_APL))"
   ]
  },
  {
   "cell_type": "code",
   "execution_count": 19,
   "id": "94be4643",
   "metadata": {},
   "outputs": [
    {
     "name": "stdout",
     "output_type": "stream",
     "text": [
      "[array([[0.10985196, 0.22006943],\n",
      "       [0.16156133, 0.17659805],\n",
      "       [0.04836856, 0.12225803],\n",
      "       [0.06296212, 0.23347319],\n",
      "       [0.14044797, 0.21270783],\n",
      "       [0.23551127, 0.59410878],\n",
      "       [0.00940711, 0.22374192],\n",
      "       [0.19857796, 0.1227289 ],\n",
      "       [0.04604877, 0.08722426],\n",
      "       [0.04857886, 0.50501947],\n",
      "       [0.07908846, 0.21797548],\n",
      "       [0.0412564 , 0.65012581],\n",
      "       [0.03934532, 0.0709797 ],\n",
      "       [0.52257199, 0.18653249],\n",
      "       [0.04082147, 0.32640478],\n",
      "       [0.20583491, 0.21956723],\n",
      "       [0.08291694, 0.46848999],\n",
      "       [0.25854305, 0.25646479],\n",
      "       [0.04200714, 0.09469818],\n",
      "       [0.02594475, 0.12627116]]), array([[0.09239026, 0.0837293 ],\n",
      "       [0.10695487, 0.09689788],\n",
      "       [0.52604694, 0.07100921],\n",
      "       [0.18776642, 0.1679611 ],\n",
      "       [0.52675433, 0.17908631],\n",
      "       [0.01933634, 0.0736473 ],\n",
      "       [0.25063189, 0.09606574],\n",
      "       [0.01657192, 0.01624696],\n",
      "       [0.1038503 , 0.32625165],\n",
      "       [0.02980198, 0.27972782],\n",
      "       [0.1445202 , 0.17403018],\n",
      "       [0.21310378, 0.00717488],\n",
      "       [0.23366766, 0.01018702],\n",
      "       [0.1363697 , 0.04093317],\n",
      "       [0.21893588, 0.31241397],\n",
      "       [0.24965321, 0.02471224],\n",
      "       [0.03433133, 0.08017013],\n",
      "       [0.38344511, 0.09275377],\n",
      "       [0.06761323, 0.32931763],\n",
      "       [0.19077925, 0.00561341]]), array([[0.1592888 , 0.06022567],\n",
      "       [0.33117308, 0.32447084],\n",
      "       [0.24515148, 0.05012451],\n",
      "       [0.05715812, 0.28734929],\n",
      "       [0.07346867, 0.12691099],\n",
      "       [0.13175807, 0.19168103],\n",
      "       [0.08490457, 0.02047473],\n",
      "       [0.14058127, 0.19599447],\n",
      "       [0.06422098, 0.44761122],\n",
      "       [0.16470645, 0.1186442 ],\n",
      "       [0.35590907, 0.11899047],\n",
      "       [0.09111662, 0.03927204],\n",
      "       [0.04935922, 0.15862734],\n",
      "       [0.03763434, 0.15639169],\n",
      "       [0.29825937, 0.08984941],\n",
      "       [0.05379135, 0.09747388],\n",
      "       [0.05931687, 0.13770327],\n",
      "       [0.10882004, 0.05151346],\n",
      "       [0.02767293, 0.08175361],\n",
      "       [0.05653471, 0.29058349]]), array([[0.61757302, 0.05503597],\n",
      "       [0.01798653, 0.00507113],\n",
      "       [0.0814315 , 0.30959218],\n",
      "       [0.19876903, 0.03641405],\n",
      "       [0.20741889, 0.27362395],\n",
      "       [0.02807878, 0.20180462],\n",
      "       [0.5447103 , 0.37346115],\n",
      "       [0.16325279, 0.09685611],\n",
      "       [0.29645093, 0.65697675],\n",
      "       [0.2978948 , 0.18102134],\n",
      "       [0.01059178, 0.02768212],\n",
      "       [0.13376743, 0.09359376],\n",
      "       [0.05557514, 0.33119885],\n",
      "       [0.04838737, 0.07279736],\n",
      "       [0.01840113, 0.04024184],\n",
      "       [0.25506769, 0.20744628],\n",
      "       [0.03191668, 0.23986513],\n",
      "       [0.33174216, 0.07821052],\n",
      "       [0.28090936, 0.11352359],\n",
      "       [0.0554443 , 0.18355362]]), array([[0.0123056 , 0.1458122 ],\n",
      "       [0.00330754, 0.31341718],\n",
      "       [0.11203362, 0.02505207],\n",
      "       [0.19653301, 0.37745702],\n",
      "       [0.11605255, 0.71402679],\n",
      "       [0.09707194, 0.08862405],\n",
      "       [0.44556559, 0.06696049],\n",
      "       [0.05455113, 0.04322804],\n",
      "       [0.01365671, 0.29844509],\n",
      "       [0.09070636, 0.37956253],\n",
      "       [0.10543434, 0.14482094],\n",
      "       [0.12120417, 0.11842079],\n",
      "       [0.05892056, 0.13146386],\n",
      "       [0.03117995, 0.02899168],\n",
      "       [0.2744837 , 0.32409225],\n",
      "       [0.31721053, 0.03781837],\n",
      "       [0.20535419, 0.24836068],\n",
      "       [0.09389569, 0.06332583],\n",
      "       [0.17858234, 0.12116379],\n",
      "       [0.11683874, 0.14866536]]), array([[0.37555006, 0.20179935],\n",
      "       [0.12710274, 0.09774272],\n",
      "       [0.11858726, 0.24730647],\n",
      "       [0.00326648, 0.31370143],\n",
      "       [0.34327398, 0.21692134],\n",
      "       [0.32590673, 0.00151485],\n",
      "       [0.03883192, 0.53128666],\n",
      "       [0.07579799, 0.22387366],\n",
      "       [0.14729122, 0.19546679],\n",
      "       [0.04231019, 0.32372454],\n",
      "       [0.42694228, 0.25667539],\n",
      "       [0.0983558 , 0.18617203],\n",
      "       [0.2028303 , 0.20542351],\n",
      "       [0.28306722, 0.38606168],\n",
      "       [0.15022382, 0.59023346],\n",
      "       [0.06134342, 0.11513415],\n",
      "       [0.10315873, 0.06108761],\n",
      "       [0.33771288, 0.15907539],\n",
      "       [0.156189  , 0.05843623],\n",
      "       [0.02602807, 0.20127791]]), array([[0.2849751 , 0.23895542],\n",
      "       [0.07694118, 0.3911137 ],\n",
      "       [0.20849544, 0.33000965],\n",
      "       [0.02429798, 0.08577185],\n",
      "       [0.067413  , 0.19348419],\n",
      "       [0.22347437, 0.024651  ],\n",
      "       [0.426139  , 0.00489327],\n",
      "       [0.1047917 , 0.09570288],\n",
      "       [0.02093571, 0.32571455],\n",
      "       [0.01467461, 0.22297956],\n",
      "       [0.11532783, 0.1757025 ],\n",
      "       [0.01905998, 0.50614748],\n",
      "       [0.33549774, 0.00545237],\n",
      "       [0.28854899, 0.19473897],\n",
      "       [0.21271891, 0.2273008 ],\n",
      "       [0.03003338, 0.04009999],\n",
      "       [0.02194545, 0.04889687],\n",
      "       [0.17747368, 0.07805682],\n",
      "       [0.2778709 , 0.45299972],\n",
      "       [0.055058  , 0.0251397 ]]), array([[0.14833175, 0.07130752],\n",
      "       [0.65447659, 0.06201384],\n",
      "       [0.11118456, 0.10304312],\n",
      "       [0.18314089, 0.04559921],\n",
      "       [0.08366183, 0.15864173],\n",
      "       [0.01639097, 0.27518792],\n",
      "       [0.07690275, 0.33167634],\n",
      "       [0.07228661, 0.12111993],\n",
      "       [0.09732884, 0.0189095 ],\n",
      "       [0.8490971 , 0.09586904],\n",
      "       [0.18848055, 0.10299873],\n",
      "       [0.39651474, 0.19446164],\n",
      "       [0.04702393, 0.09533863],\n",
      "       [0.03661396, 0.0527716 ],\n",
      "       [0.28892473, 0.21167019],\n",
      "       [0.0365325 , 0.14502799],\n",
      "       [0.20169155, 0.00846074],\n",
      "       [0.10022442, 0.04417863],\n",
      "       [0.06402213, 0.08147989],\n",
      "       [0.12614406, 0.10077698]]), array([[0.42200524, 0.10037218],\n",
      "       [0.15874403, 0.03207956],\n",
      "       [0.45049008, 0.06583473],\n",
      "       [0.15924475, 0.04150802],\n",
      "       [0.03344973, 0.04203708],\n",
      "       [0.34747851, 0.10221381],\n",
      "       [0.03314033, 0.22653452],\n",
      "       [0.05181982, 0.48351222],\n",
      "       [0.09933296, 0.09365487],\n",
      "       [0.26788061, 0.28011303],\n",
      "       [0.01844167, 0.09280395],\n",
      "       [0.39391174, 0.32754243],\n",
      "       [0.11979407, 0.10579858],\n",
      "       [0.09534023, 0.41673143],\n",
      "       [0.16597002, 0.35096109],\n",
      "       [0.03132776, 0.23309775],\n",
      "       [0.3104111 , 0.06320964],\n",
      "       [0.13335862, 0.29604909],\n",
      "       [0.63913429, 0.18159132],\n",
      "       [0.39315514, 0.26003963]]), array([[0.21269893, 0.24841543],\n",
      "       [0.35334742, 0.04550942],\n",
      "       [0.12711006, 0.00605154],\n",
      "       [0.2717585 , 0.04908519],\n",
      "       [0.0586351 , 0.30698892],\n",
      "       [0.07526558, 0.00843014],\n",
      "       [0.13858135, 0.1651823 ],\n",
      "       [0.04621999, 0.02256403],\n",
      "       [0.00868545, 0.11797411],\n",
      "       [0.39774807, 0.41351729],\n",
      "       [0.06687101, 0.07955469],\n",
      "       [0.23600274, 0.28129855],\n",
      "       [0.03478894, 0.0130967 ],\n",
      "       [0.3550446 , 0.24371172],\n",
      "       [0.09802046, 0.29929878],\n",
      "       [0.41363712, 0.03125806],\n",
      "       [0.01465472, 0.19053499],\n",
      "       [0.04400955, 0.06513422],\n",
      "       [0.22102167, 0.13793938],\n",
      "       [0.05487095, 0.13894272]]), array([[0.01598814, 0.34235889],\n",
      "       [0.07553381, 0.11990314],\n",
      "       [0.11239453, 0.19826962],\n",
      "       [0.46509696, 0.11605258],\n",
      "       [0.12080974, 0.10214497],\n",
      "       [0.16109918, 0.02366618],\n",
      "       [0.34931447, 0.40299848],\n",
      "       [0.11784733, 0.04809641],\n",
      "       [0.96713167, 0.05183226],\n",
      "       [0.24200989, 0.1840796 ],\n",
      "       [0.39388523, 0.06084158],\n",
      "       [0.0153164 , 0.07910358],\n",
      "       [0.13167995, 0.10300323],\n",
      "       [0.24038633, 0.05237703],\n",
      "       [0.26328594, 0.54171094],\n",
      "       [0.12874512, 0.22024692],\n",
      "       [0.22703116, 0.08009648],\n",
      "       [0.03605827, 0.20745767],\n",
      "       [0.1194764 , 0.10977631],\n",
      "       [0.16226381, 0.00197356]]), array([[0.05252955, 0.06215762],\n",
      "       [0.1410248 , 0.25400689],\n",
      "       [0.01666094, 0.00778653],\n",
      "       [0.17554567, 0.05214461],\n",
      "       [0.13044468, 0.0599396 ],\n",
      "       [0.21103779, 0.29693647],\n",
      "       [0.22231305, 0.04461743],\n",
      "       [0.0734053 , 0.19082538],\n",
      "       [0.23807327, 0.43793571],\n",
      "       [0.73705897, 0.24313253],\n",
      "       [0.05514387, 0.11678128],\n",
      "       [0.28075239, 0.77028654],\n",
      "       [0.05133685, 0.50490972],\n",
      "       [0.17318374, 0.08183561],\n",
      "       [0.15120255, 0.37157701],\n",
      "       [0.04585545, 0.22878486],\n",
      "       [0.14102267, 0.15839885],\n",
      "       [0.07476582, 0.29984612],\n",
      "       [0.5379281 , 0.05012819],\n",
      "       [0.17818449, 0.19016495]]), array([[0.14442077, 0.17357853],\n",
      "       [0.21551441, 0.27659474],\n",
      "       [0.26051257, 0.07996601],\n",
      "       [0.1935911 , 0.25674899],\n",
      "       [0.54270562, 0.11154821],\n",
      "       [0.1785499 , 0.19300896],\n",
      "       [0.09986102, 0.20280013],\n",
      "       [0.06370704, 0.04899019],\n",
      "       [0.10220638, 0.38818253],\n",
      "       [0.11392037, 0.09599883],\n",
      "       [0.01574731, 0.12862203],\n",
      "       [0.25942246, 0.03884087],\n",
      "       [0.16203588, 0.06383643],\n",
      "       [0.21939156, 0.02460183],\n",
      "       [0.16966317, 0.02977122],\n",
      "       [0.1140424 , 0.23946184],\n",
      "       [0.1154533 , 0.08345797],\n",
      "       [0.26003516, 0.36423004],\n",
      "       [0.19122939, 0.49090346],\n",
      "       [0.30981915, 0.03619153]]), array([[0.05031515, 0.43460997],\n",
      "       [0.21938124, 0.04054176],\n",
      "       [0.28113048, 0.0095851 ],\n",
      "       [0.43978988, 0.129602  ],\n",
      "       [0.16466122, 0.04768688],\n",
      "       [0.06600889, 0.11978889],\n",
      "       [0.09457627, 0.19153323],\n",
      "       [0.02548201, 0.14892999],\n",
      "       [0.15886229, 0.17008582],\n",
      "       [0.12450084, 0.22452575],\n",
      "       [0.09317434, 0.06607284],\n",
      "       [0.42326335, 0.07947909],\n",
      "       [0.03732988, 0.041092  ],\n",
      "       [0.50616667, 0.23560319],\n",
      "       [0.0974518 , 0.47122097],\n",
      "       [0.33952459, 0.13784338],\n",
      "       [0.29608687, 0.02707794],\n",
      "       [0.00845287, 0.08026557],\n",
      "       [0.14772208, 0.28833152],\n",
      "       [0.10010545, 0.25741695]]), array([[0.47189768, 0.08380941],\n",
      "       [0.12342747, 0.25027915],\n",
      "       [0.22696902, 0.21467966],\n",
      "       [0.03185926, 0.30495234],\n",
      "       [0.13251455, 0.43233074],\n",
      "       [0.1919739 , 0.04398875],\n",
      "       [0.0928105 , 0.08820839],\n",
      "       [0.13127872, 0.03417744],\n",
      "       [0.16498658, 0.39424513],\n",
      "       [0.20123437, 0.14480428],\n",
      "       [0.04770649, 0.07622304],\n",
      "       [0.07060296, 0.20037314],\n",
      "       [0.05419735, 0.20033509],\n",
      "       [0.00648551, 0.4482577 ],\n",
      "       [0.17337297, 0.07456847],\n",
      "       [0.0409136 , 0.03251839],\n",
      "       [0.08588925, 0.04890725],\n",
      "       [0.01865871, 0.018954  ],\n",
      "       [0.26856282, 0.21418396],\n",
      "       [0.06837934, 0.03647911]]), array([[0.21569044, 0.70212242],\n",
      "       [0.14003656, 0.09066154],\n",
      "       [0.97988542, 0.03053432],\n",
      "       [0.28334386, 0.12890464],\n",
      "       [0.44472619, 0.13803817],\n",
      "       [0.22199535, 0.21412663],\n",
      "       [0.10628428, 0.18572562],\n",
      "       [0.16269849, 0.26423976],\n",
      "       [0.14703274, 0.04036226],\n",
      "       [0.10527522, 0.06032323],\n",
      "       [0.37797104, 0.0853391 ],\n",
      "       [0.20994077, 0.32601813],\n",
      "       [0.49366784, 0.40102106],\n",
      "       [0.12184481, 0.01598213],\n",
      "       [0.13761111, 0.13527537],\n",
      "       [0.1572892 , 0.09199104],\n",
      "       [0.06547729, 0.2227699 ],\n",
      "       [0.48494659, 0.42887794],\n",
      "       [0.13270256, 0.48069106],\n",
      "       [0.03733582, 0.12060155]]), array([[0.23986172, 0.3167639 ],\n",
      "       [0.11969016, 0.28720774],\n",
      "       [0.13133357, 0.05175658],\n",
      "       [0.10199188, 0.1903901 ],\n",
      "       [0.15898068, 0.19402105],\n",
      "       [0.19607456, 0.05308098],\n",
      "       [0.77063383, 0.29937236],\n",
      "       [0.08438974, 0.07468483],\n",
      "       [0.10604142, 0.21686896],\n",
      "       [0.03093615, 0.1302919 ],\n",
      "       [0.03530207, 0.59002405],\n",
      "       [0.40110313, 0.34489237],\n",
      "       [0.6690943 , 0.21545294],\n",
      "       [0.08474718, 0.07434332],\n",
      "       [0.21745569, 0.19382392],\n",
      "       [0.35181551, 0.38534595],\n",
      "       [0.022174  , 0.07635568],\n",
      "       [0.08930376, 0.29634988],\n",
      "       [0.06880034, 0.25961987],\n",
      "       [0.1754429 , 0.15095931]]), array([[0.26900104, 0.83195455],\n",
      "       [0.26987584, 0.0903604 ],\n",
      "       [0.0733814 , 0.14886005],\n",
      "       [0.14403085, 0.17292213],\n",
      "       [0.28932037, 0.10585953],\n",
      "       [0.03961766, 0.1609156 ],\n",
      "       [0.1542529 , 0.18283044],\n",
      "       [0.03452955, 0.1432051 ],\n",
      "       [0.23634424, 0.13282179],\n",
      "       [0.16666275, 0.040639  ],\n",
      "       [0.0682817 , 0.11827054],\n",
      "       [0.20096272, 0.07059594],\n",
      "       [0.53048815, 0.14444254],\n",
      "       [0.06543422, 0.10923307],\n",
      "       [0.24621419, 0.05347157],\n",
      "       [0.24993808, 0.17440782],\n",
      "       [0.02991291, 0.01672508],\n",
      "       [0.28490172, 0.01580445],\n",
      "       [0.01802079, 0.00140072],\n",
      "       [0.20795394, 0.16014689]]), array([[0.04510153, 0.12509007],\n",
      "       [0.28372312, 0.04970448],\n",
      "       [0.01063632, 0.18105926],\n",
      "       [0.07277736, 0.08922134],\n",
      "       [0.03252684, 0.06001457],\n",
      "       [0.27558357, 0.26212611],\n",
      "       [0.0666796 , 0.10331794],\n",
      "       [0.10877864, 0.06377774],\n",
      "       [0.15059298, 0.05620317],\n",
      "       [0.12051232, 0.12399344],\n",
      "       [0.03643483, 0.19095615],\n",
      "       [0.25334812, 0.01039511],\n",
      "       [0.10738057, 0.19800063],\n",
      "       [0.2203702 , 0.26863076],\n",
      "       [0.19377659, 0.04718839],\n",
      "       [0.31872338, 0.06892012],\n",
      "       [0.18145006, 0.07066692],\n",
      "       [0.07005442, 0.34141177],\n",
      "       [0.05537891, 0.07368594],\n",
      "       [0.14969024, 0.38704442]]), array([[0.0288414 , 0.02340076],\n",
      "       [0.10991578, 0.1290538 ],\n",
      "       [0.21083238, 0.18473911],\n",
      "       [0.18785142, 0.11954526],\n",
      "       [0.03106497, 0.13834747],\n",
      "       [0.03786409, 0.01030526],\n",
      "       [0.11727401, 0.17116342],\n",
      "       [0.23274122, 0.22502737],\n",
      "       [0.08073515, 0.2819069 ],\n",
      "       [0.28918084, 0.07870025],\n",
      "       [0.30720302, 0.24187555],\n",
      "       [0.08558467, 0.12592215],\n",
      "       [0.06708854, 0.40993385],\n",
      "       [0.13311055, 0.38959992],\n",
      "       [0.04063091, 0.13991002],\n",
      "       [0.07808063, 0.32548503],\n",
      "       [0.49426921, 0.28944184],\n",
      "       [0.06445004, 0.10406909],\n",
      "       [0.3231672 , 0.14011382],\n",
      "       [0.20830461, 0.67443639]])]\n"
     ]
    }
   ],
   "source": [
    "list_of_KC_matrix = []\n",
    "for i in range(num_smells):\n",
    "    list_of_kenyon_celloutputs[i][1][list_of_kenyon_celloutputs[i][1] < 0] = 0\n",
    "    pos_count = len(list_of_kenyon_celloutputs[i][1])\n",
    "    kcmat = matrix_generator(pos_count, 2, 'gamma', shape=1.44, scale=0.12)\n",
    "    list_of_KC_matrix.append(kcmat)\n",
    "print(list_of_KC_matrix)"
   ]
  },
  {
   "cell_type": "code",
   "execution_count": 25,
   "id": "30f9e3ab",
   "metadata": {},
   "outputs": [
    {
     "name": "stdout",
     "output_type": "stream",
     "text": [
      "[array([0.04870375, 0.05195303]), array([0.01245458, 0.0118518 ]), array([0.02364464, 0.04284583]), array([0.03137268, 0.02551536]), array([0.14967141, 0.53438372]), array([0.04527433, 0.14011241]), array([0.15173011, 0.30899759]), array([0.04711361, 0.19562266]), array([0.01579245, 0.0031914 ]), array([0.00131157, 0.00358826]), array([0.08999721, 0.15396009]), array([0.05693242, 0.13615034]), array([0.03249946, 0.03715534]), array([0.27105934, 0.10590579]), array([0.07409459, 0.04791927]), array([0.02873674, 0.01680677]), array([0.18130544, 0.0911722 ]), array([0.23366831, 0.12283272]), array([0.17182828, 0.03571957]), array([0.08457697, 0.08659603])]\n"
     ]
    }
   ],
   "source": [
    "list_of_mushroom_body_neurons = []\n",
    "for i in range(num_smells):\n",
    "    list_of_mushroom_body_neurons.append(matrix_multiply(list_of_kenyon_celloutputs[i][1], list_of_KC_matrix[i]))\n",
    "\n",
    "print(list_of_mushroom_body_neurons)"
   ]
  },
  {
   "cell_type": "code",
   "execution_count": 85,
   "id": "027cc245",
   "metadata": {},
   "outputs": [
    {
     "data": {
      "text/plain": [
       "[<matplotlib.lines.Line2D at 0x211ac0b1070>]"
      ]
     },
     "execution_count": 85,
     "metadata": {},
     "output_type": "execute_result"
    },
    {
     "data": {
      "image/png": "[encoded data removed]",
      "text/plain": [
       "<Figure size 432x288 with 1 Axes>"
      ]
     },
     "metadata": {
      "needs_background": "light"
     },
     "output_type": "display_data"
    }
   ],
   "source": [
    "mean, var = sp.stats.distributions.norm.fit(c)\n",
    "x = np.linspace(-25,25,100)\n",
    "fitted_data = sp.stats.distributions.norm.pdf(x, mean, var)\n",
    "plt.hist(c, density=True)\n",
    "plt.plot(x,fitted_data,'r-')"
   ]
  },
  {
   "cell_type": "code",
   "execution_count": 20,
   "id": "82dcad35",
   "metadata": {},
   "outputs": [
    {
     "data": {
      "text/plain": [
       "38.0"
      ]
     },
     "execution_count": 20,
     "metadata": {},
     "output_type": "execute_result"
    }
   ],
   "source": [
    "0.95*40"
   ]
  },
  {
   "cell_type": "code",
   "execution_count": null,
   "id": "f4e076e3",
   "metadata": {},
   "outputs": [],
   "source": []
  }
 ],
 "metadata": {
  "kernelspec": {
   "display_name": "Python 3",
   "language": "python",
   "name": "python3"
  },
  "language_info": {
   "codemirror_mode": {
    "name": "ipython",
    "version": 3
   },
   "file_extension": ".py",
   "mimetype": "text/x-python",
   "name": "python",
   "nbconvert_exporter": "python",
   "pygments_lexer": "ipython3",
   "version": "3.8.8"
  }
 },
 "nbformat": 4,
 "nbformat_minor": 5
}
