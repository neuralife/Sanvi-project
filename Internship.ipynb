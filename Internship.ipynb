{
 "cells": [
  {
   "cell_type": "markdown",
   "id": "7189fb5a",
   "metadata": {},
   "source": [
    "## Python Exercise"
   ]
  },
  {
   "cell_type": "markdown",
   "id": "minus-theory",
   "metadata": {},
   "source": [
    "This is the online version of Sanvi's code"
   ]
  },
  {
   "cell_type": "code",
   "execution_count": 312,
   "id": "0add80a1",
   "metadata": {},
   "outputs": [],
   "source": [
    "import numpy as np\n",
    "import scipy as sp\n",
    "import matplotlib.pyplot as plt\n",
    "import os \n",
    "import sys\n",
    "from scipy.stats import expon"
   ]
  },
  {
   "cell_type": "markdown",
   "id": "67c41c78",
   "metadata": {},
   "source": [
    "### Returns Vector of size a"
   ]
  },
  {
   "cell_type": "code",
   "execution_count": 313,
   "id": "ce7699b6",
   "metadata": {},
   "outputs": [],
   "source": [
    "def vector_generator(a,distype):\n",
    "    arr = np.zeros(a)\n",
    "    if (distype == 'binary'):\n",
    "        arr[:a//2] = 1\n",
    "        np.random.shuffle(arr)\n",
    "    elif (distype == 'expon'):\n",
    "        arr = expon.rvs(scale=1,loc=0,size=a)\n",
    "    else:\n",
    "        print('invalid type value')\n",
    "    print(arr)\n",
    "    return arr\n",
    "    "
   ]
  },
  {
   "cell_type": "markdown",
   "id": "f3ec9470",
   "metadata": {},
   "source": [
    "### Returns r x c Matrix of different types of distributions"
   ]
  },
  {
   "cell_type": "code",
   "execution_count": 316,
   "id": "5baac873",
   "metadata": {},
   "outputs": [],
   "source": [
    "def matrix_generator(row, column, distype, shape=0, scale=0):\n",
    "    if (distype == 'random'):\n",
    "        a = np.random.rand(row, column)\n",
    "    elif (distype == 'uniform'):\n",
    "        a = np.random.uniform(0, 25, row*column)\n",
    "        a = a.reshape(row, column)\n",
    "    elif (distype == 'gaussian'):\n",
    "        a = np.random.normal(size=(row,column))\n",
    "    elif (distype == 'exponential'):\n",
    "        a = np.random.exponential(size=(row,column))\n",
    "    elif (distype == 'gamma'):\n",
    "        a = np.random.gamma(shape, scale, row*column)\n",
    "        a = a.reshape(row, column)\n",
    "    else:\n",
    "        print('invalid type value')\n",
    "        \n",
    "    print(a)\n",
    "    return a"
   ]
  },
  {
   "cell_type": "markdown",
   "id": "143ed535",
   "metadata": {},
   "source": [
    "### Returns Matrix Multiplication of Vector of size a and Matrix of size a x b"
   ]
  },
  {
   "cell_type": "code",
   "execution_count": 317,
   "id": "b29f6e5e",
   "metadata": {},
   "outputs": [],
   "source": [
    "def matmul(a, b, distype, shape=2, scale=3):\n",
    "    return vector_generator(a, 'binary') @ matrix_generator(a, b, distype, shape, scale)"
   ]
  },
  {
   "cell_type": "markdown",
   "id": "398b8bfc",
   "metadata": {},
   "source": [
    "### Output"
   ]
  },
  {
   "cell_type": "code",
   "execution_count": 324,
   "id": "e5d694a0",
   "metadata": {},
   "outputs": [
    {
     "name": "stdout",
     "output_type": "stream",
     "text": [
      "[0. 1. 1. 0. 0. 1. 0. 1.]\n",
      "[[-2.30046157e-01  1.51526889e+00  3.24080502e-01 -1.13797669e-03\n",
      "   2.35564697e-01  1.43502358e+00 -5.40361404e-01 -1.12056658e+00\n",
      "  -6.90940105e-01  1.62209344e+00 -1.47033610e-01  1.45097722e+00\n",
      "   8.70573237e-01  8.05392462e-01 -3.34759584e-01 -1.09783191e+00\n",
      "   2.21659629e+00  2.66055819e+00 -1.70637802e+00 -2.83479713e-01]\n",
      " [-1.14118097e-01  1.24891484e-01  1.85283142e+00 -4.97831609e-01\n",
      "  -9.61101832e-01 -1.30069336e+00  1.42521052e-01 -1.20811849e+00\n",
      "   7.46991109e-01 -6.37542943e-01  8.51846174e-01 -4.42315992e-01\n",
      "   1.68507703e+00 -7.76016519e-01  5.99773429e-01 -8.01769473e-01\n",
      "  -9.68465165e-01 -7.62516444e-01 -8.92090031e-01  4.84175142e-01]\n",
      " [-9.41734811e-01  3.19312105e-01  7.03749585e-01  1.54115981e+00\n",
      "   8.59242879e-01 -4.38818643e-01  7.21448124e-01 -1.45637118e+00\n",
      "  -1.32630302e+00  1.56183896e+00 -2.37725384e+00  2.19930428e-01\n",
      "   3.89433862e-01  2.12806162e-01  8.73830521e-01  2.58001767e-01\n",
      "   4.39441158e-01  1.28671335e+00 -7.02233713e-01  5.39793572e-01]\n",
      " [ 1.62828371e+00  5.27903308e-01  6.86058772e-01 -1.58527352e+00\n",
      "   1.58641385e-01  1.89922956e-01  5.38327783e-01  3.54378178e-01\n",
      "   4.10277197e-01  1.16472791e-01  7.77418671e-01  8.21695075e-01\n",
      "   3.28021764e-01 -1.40989004e+00 -2.72114952e-01  9.83152790e-01\n",
      "   1.33454285e+00  7.42506196e-01 -9.56424813e-01  5.14613331e-01]\n",
      " [ 3.80983163e-01 -2.92739438e-01  6.86771557e-01  4.50124436e-01\n",
      "   4.78283856e-01  5.63268876e-02 -6.94972326e-01 -2.20752226e-01\n",
      "  -1.99538625e-01  1.68635554e+00  1.96908065e-02 -1.95720529e-01\n",
      "  -8.67866630e-01 -6.81463236e-01  5.38186544e-02  9.05180454e-01\n",
      "  -3.77522281e-01  1.00862071e+00  7.72568914e-02  5.21392329e-01]\n",
      " [-1.55136208e-02 -5.80317115e-01  1.86591427e-01 -2.43723182e-01\n",
      "   7.91057195e-01  6.79480402e-01  7.83261378e-01 -6.98517081e-01\n",
      "   9.84009696e-01 -1.18096686e+00 -9.83102760e-01  7.86113631e-01\n",
      "   6.97199059e-01 -5.79550160e-01 -1.38448250e+00 -6.35353581e-02\n",
      "   2.90101138e-01 -1.04695771e-01  2.62269250e-01 -4.77309680e-01]\n",
      " [ 1.13605403e+00  1.59313835e+00 -1.75868035e+00 -2.30219140e-01\n",
      "   1.25791893e-02  1.14880050e+00 -9.10771561e-01  1.06619044e-01\n",
      "  -9.19538192e-01  1.24748156e+00  3.18771676e-01 -5.76628183e-01\n",
      "  -3.12277552e-01 -2.47035905e+00 -9.52998997e-01 -1.25879027e-01\n",
      "  -1.07559383e+00 -2.56451532e-01 -9.16689161e-01  8.18232820e-01]\n",
      " [-6.94439680e-01 -6.62024476e-01 -5.36284878e-01 -6.96943316e-01\n",
      "  -8.23568268e-01 -1.09717487e+00 -1.01548671e-02  5.16440870e-02\n",
      "  -5.69214244e-01  1.92288128e+00  6.54628185e-01 -1.44269627e-01\n",
      "  -1.95186317e-01  1.52570520e-01  7.61682082e-01 -1.61637478e-02\n",
      "  -4.24447962e-01  7.78185636e-01 -6.93865555e-01  2.37241207e-01]]\n"
     ]
    }
   ],
   "source": [
    "a = 8;\n",
    "b = 20;\n",
    "c = matmul(a,b,'gaussian');"
   ]
  },
  {
   "cell_type": "code",
   "execution_count": 325,
   "id": "87f3d634",
   "metadata": {},
   "outputs": [],
   "source": [
    "##print(c)"
   ]
  },
  {
   "cell_type": "code",
   "execution_count": 326,
   "id": "fa06021e",
   "metadata": {
    "scrolled": false
   },
   "outputs": [
    {
     "name": "stdout",
     "output_type": "stream",
     "text": [
      "11.441207997528215\n",
      "[0.         0.         2.20688755 0.1026617  0.         0.\n",
      " 1.63707569 0.         0.         1.66621044 0.         0.41945844\n",
      " 2.57652364 0.         0.85080353 0.         0.         1.19768677\n",
      " 0.         0.78390024]\n",
      "[0.         0.         2.20688755 0.1026617  0.         0.\n",
      " 1.63707569 0.         0.         1.66621044 0.         0.41945844\n",
      " 2.57652364 0.         0.85080353 0.         0.         1.19768677\n",
      " 0.         0.78390024]\n"
     ]
    }
   ],
   "source": [
    "c[c<0]=0\n",
    "d = c.copy()\n",
    "APL = c.sum()\n",
    "print(APL)\n",
    "print(c)\n",
    "print(d)"
   ]
  },
  {
   "cell_type": "code",
   "execution_count": 327,
   "id": "321332d5",
   "metadata": {
    "scrolled": true
   },
   "outputs": [
    {
     "name": "stdout",
     "output_type": "stream",
     "text": [
      "[-2.2882416 -2.2882416 -2.2882416 -2.2882416 -2.2882416 -2.2882416\n",
      " -2.2882416 -2.2882416 -2.2882416 -2.2882416 -2.2882416 -2.2882416\n",
      " -2.2882416 -2.2882416 -2.2882416 -2.2882416 -2.2882416 -2.2882416\n",
      " -2.2882416 -2.2882416]\n",
      "[1.         0.96254116 0.92508232 0.88762348 0.85016464 0.8127058\n",
      " 0.77524696 0.73778812 0.70032928 0.66287044 0.6254116  0.58795276\n",
      " 0.55049392 0.51303508 0.47557624 0.4381174  0.40065856 0.36319972\n",
      " 0.32574088 0.28828204]\n",
      "20\n",
      "range(1, 21)\n"
     ]
    },
    {
     "data": {
      "image/png": "[encoded data removed]",
      "text/plain": [
       "<Figure size 432x288 with 1 Axes>"
      ]
     },
     "metadata": {
      "needs_background": "light"
     },
     "output_type": "display_data"
    }
   ],
   "source": [
    "constant= 0.2\n",
    "m = len(c)\n",
    "##c = np.array([x - APL*constant for x in c])\n",
    "for i in range(m):\n",
    "    c[i] = c[i] - APL*constant\n",
    "print(c-d)\n",
    "c[c<0]=0\n",
    "x = np.linspace(1,max(c), m)\n",
    "print(x)\n",
    "print(m)\n",
    "x = range(1,m+1)\n",
    "print(x)\n",
    "plt.plot(x,c,\"r-\")\n",
    "plt.show()"
   ]
  },
  {
   "cell_type": "code",
   "execution_count": 331,
   "id": "a54c02c1",
   "metadata": {},
   "outputs": [
    {
     "data": {
      "text/plain": [
       "0.05"
      ]
     },
     "execution_count": 331,
     "metadata": {},
     "output_type": "execute_result"
    }
   ],
   "source": [
    "np.count_nonzero(c) / len(c)\n"
   ]
  },
  {
   "cell_type": "code",
   "execution_count": 328,
   "id": "221189a8",
   "metadata": {},
   "outputs": [
    {
     "data": {
      "image/png": "[encoded data removed]",
      "text/plain": [
       "<Figure size 432x288 with 1 Axes>"
      ]
     },
     "metadata": {
      "needs_background": "light"
     },
     "output_type": "display_data"
    }
   ],
   "source": [
    "plt.plot(x,d,\"b-\")\n",
    "plt.show()"
   ]
  },
  {
   "cell_type": "code",
   "execution_count": 323,
   "id": "027cc245",
   "metadata": {},
   "outputs": [
    {
     "data": {
      "text/plain": [
       "[<matplotlib.lines.Line2D at 0x25c443cddf0>]"
      ]
     },
     "execution_count": 323,
     "metadata": {},
     "output_type": "execute_result"
    },
    {
     "data": {
      "image/png": "[encoded data removed]",
      "text/plain": [
       "<Figure size 432x288 with 1 Axes>"
      ]
     },
     "metadata": {
      "needs_background": "light"
     },
     "output_type": "display_data"
    }
   ],
   "source": [
    "mean, var = sp.stats.distributions.norm.fit(c)\n",
    "x = np.linspace(-25,25,100)\n",
    "fitted_data = sp.stats.distributions.norm.pdf(x, mean, var)\n",
    "plt.hist(c, density=True)\n",
    "plt.plot(x,fitted_data,'r-')"
   ]
  },
  {
   "cell_type": "code",
   "execution_count": null,
   "id": "82dcad35",
   "metadata": {},
   "outputs": [],
   "source": []
  },
  {
   "cell_type": "code",
   "execution_count": null,
   "id": "f4e076e3",
   "metadata": {},
   "outputs": [],
   "source": []
  }
 ],
 "metadata": {
  "kernelspec": {
   "display_name": "Python 3",
   "language": "python",
   "name": "python3"
  },
  "language_info": {
   "codemirror_mode": {
    "name": "ipython",
    "version": 3
   },
   "file_extension": ".py",
   "mimetype": "text/x-python",
   "name": "python",
   "nbconvert_exporter": "python",
   "pygments_lexer": "ipython3",
   "version": "3.7.10"
  }
 },
 "nbformat": 4,
 "nbformat_minor": 5
}
