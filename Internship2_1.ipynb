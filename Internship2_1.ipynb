{
 "cells": [
  {
   "cell_type": "markdown",
   "id": "7189fb5a",
   "metadata": {},
   "source": [
    "## Python Exercise"
   ]
  },
  {
   "cell_type": "markdown",
   "id": "minus-theory",
   "metadata": {},
   "source": [
    "This is the online version of Sanvi's code"
   ]
  },
  {
   "cell_type": "code",
   "execution_count": 3,
   "id": "0add80a1",
   "metadata": {},
   "outputs": [],
   "source": [
    "import numpy as np\n",
    "import scipy as sp\n",
    "import matplotlib.pyplot as plt\n",
    "import os \n",
    "import sys\n",
    "import random\n",
    "from scipy.stats import expon"
   ]
  },
  {
   "cell_type": "markdown",
   "id": "67c41c78",
   "metadata": {},
   "source": [
    "### Returns Vector of size a with distype distribution"
   ]
  },
  {
   "cell_type": "code",
   "execution_count": 4,
   "id": "ce7699b6",
   "metadata": {},
   "outputs": [],
   "source": [
    "def vector_generator(a,distype):\n",
    "    arr = np.zeros(a)\n",
    "    if (distype == 'binary'):\n",
    "        arr[:a//2] = 1\n",
    "        np.random.shuffle(arr)\n",
    "    elif (distype == 'expon'):\n",
    "        arr = expon.rvs(scale=1,loc=0,size=a)\n",
    "    else:\n",
    "        print('invalid type value')\n",
    "    #print(arr)\n",
    "    return arr\n",
    "    "
   ]
  },
  {
   "cell_type": "markdown",
   "id": "f3ec9470",
   "metadata": {},
   "source": [
    "### Returns r x c Matrix of different types of distributions"
   ]
  },
  {
   "cell_type": "code",
   "execution_count": 5,
   "id": "5baac873",
   "metadata": {},
   "outputs": [],
   "source": [
    "def matrix_generator(row, column, distype, shape=0, scale=0):\n",
    "    if (distype == 'random'):\n",
    "        a = np.random.rand(row, column)\n",
    "    elif (distype == 'uniform'):\n",
    "        a = np.random.uniform(0, 25, row*column)\n",
    "        a = a.reshape(row, column)\n",
    "    elif (distype == 'gaussian'):\n",
    "        a = np.random.normal(loc=shape,scale=scale,size=(row,column))\n",
    "    elif (distype == 'exponential'):\n",
    "        a = np.random.exponential(size=(row,column))\n",
    "    elif (distype == 'gamma'):\n",
    "        a = np.random.gamma(shape, scale, row*column)\n",
    "        a = a.reshape(row, column)\n",
    "    else:\n",
    "        print('invalid type value')\n",
    "        \n",
    "    #print(a)\n",
    "    return a"
   ]
  },
  {
   "cell_type": "markdown",
   "id": "143ed535",
   "metadata": {},
   "source": [
    "### Returns Matrix Multiplication of Vector of size a (binary distribution) and Matrix of size a x b"
   ]
  },
  {
   "cell_type": "code",
   "execution_count": 6,
   "id": "b29f6e5e",
   "metadata": {},
   "outputs": [],
   "source": [
    "def output_vector_generator(a, b, distype, shape=2, scale=3):\n",
    "    return vector_generator(a, 'binary') @ matrix_generator(a, b, distype, shape, scale)"
   ]
  },
  {
   "cell_type": "markdown",
   "id": "1d8e1dd6",
   "metadata": {},
   "source": [
    "### Returns Matrix Multiplication of Matrix a and Matrix b"
   ]
  },
  {
   "cell_type": "code",
   "execution_count": 7,
   "id": "0c546bd1",
   "metadata": {},
   "outputs": [],
   "source": [
    "def matrix_multiply(a,b):\n",
    "    return a @ b"
   ]
  },
  {
   "cell_type": "markdown",
   "id": "398b8bfc",
   "metadata": {},
   "source": [
    "### Output"
   ]
  },
  {
   "cell_type": "code",
   "execution_count": 8,
   "id": "e5d694a0",
   "metadata": {},
   "outputs": [],
   "source": [
    "smell_vector_size = 8;\n",
    "num_smells = 20;\n",
    "output_vector = output_vector_generator(smell_vector_size,num_smells,'gaussian');"
   ]
  },
  {
   "cell_type": "code",
   "execution_count": 9,
   "id": "87f3d634",
   "metadata": {},
   "outputs": [],
   "source": [
    "#print(c)"
   ]
  },
  {
   "cell_type": "code",
   "execution_count": 10,
   "id": "fa06021e",
   "metadata": {
    "scrolled": false
   },
   "outputs": [
    {
     "name": "stdout",
     "output_type": "stream",
     "text": [
      "7.991985119133288\n",
      "[18.02184209 21.59992991  6.25882273 18.40871382 11.77356795  9.08276919\n",
      "  0.          3.04656912 11.54670154  1.65105535  4.98448577  8.72970026\n",
      "  0.          4.30075746  2.93990203  0.         16.13154904  3.53074676\n",
      " 11.93378733  5.89880203]\n",
      "[18.02184209 21.59992991  6.25882273 18.40871382 11.77356795  9.08276919\n",
      "  0.          3.04656912 11.54670154  1.65105535  4.98448577  8.72970026\n",
      "  0.          4.30075746  2.93990203  0.         16.13154904  3.53074676\n",
      " 11.93378733  5.89880203]\n"
     ]
    }
   ],
   "source": [
    "#set negative values of output vector to zero \n",
    "output_vector[output_vector < 0] = 0\n",
    "\n",
    "#make copy of output vector\n",
    "output_vector2 = output_vector.copy()\n",
    "APL = output_vector.sum()/len(output_vector)\n",
    "print(APL)\n",
    "print(output_vector)\n",
    "print(output_vector2)"
   ]
  },
  {
   "cell_type": "markdown",
   "id": "cfc11c40",
   "metadata": {
    "scrolled": true
   },
   "source": [
    "### Reference Code \n",
    "constant = 1.017058973187651\n",
    "\n",
    "m = len(c)\n",
    "\n",
    "c = c - APL*constant\n",
    "\n",
    "print(c)\n",
    "\n",
    "c[c<0]=0\n",
    "\n",
    "x = np.linspace(1,max(c), m)\n",
    "\n",
    "print(x)\n",
    "\n",
    "print(m)\n",
    "\n",
    "x = range(1,m+1)\n",
    "\n",
    "print(x)\n",
    "\n",
    "plt.plot(x,c,\"r-\")\n",
    "\n",
    "plt.show()\n",
    "\n",
    "np.count_nonzero(c) / len(c)\n",
    "\n",
    "plt.plot(x,d,\"b-\")\n",
    "\n",
    "plt.show()"
   ]
  },
  {
   "cell_type": "markdown",
   "id": "2c90f0c9",
   "metadata": {},
   "source": [
    "### Calculate Kenyon Cells Output\n",
    "\n",
    "kc: output_vector\n",
    "\n",
    "aplcons: APL constant"
   ]
  },
  {
   "cell_type": "code",
   "execution_count": 11,
   "id": "wrong-father",
   "metadata": {},
   "outputs": [],
   "source": [
    "def CalKCOutput(kc, aplcons):\n",
    "    #apl is average value of KC\n",
    "    apl = sum(kc)/len(kc)\n",
    "    #print(type(kc))\n",
    "    \n",
    "    #kcout is apl * aplcons subtracted from KC values\n",
    "    kcout = kc.copy()\n",
    "    for i in range(len(kcout)):\n",
    "        kcout[i] = kc[i] - apl*aplcons\n",
    "    #print(kc,\"\\n\",apl*aplcons,\"\\n\",kcout)\n",
    "    \n",
    "    #return tuple of kc, kcout, apl\n",
    "    return(kc,kcout,apl)"
   ]
  },
  {
   "cell_type": "markdown",
   "id": "a2058625",
   "metadata": {},
   "source": [
    "### Returns fraction of Kenyon Cells fired\n",
    "\n",
    "vec: vector\n",
    "\n",
    "thresh: threshold"
   ]
  },
  {
   "cell_type": "code",
   "execution_count": 12,
   "id": "instrumental-closing",
   "metadata": {},
   "outputs": [],
   "source": [
    "def NumberAboveThresh(vec, thresh = 0):\n",
    "    res = len(vec[np.where(vec>thresh)]) / len(vec)\n",
    "    return(res)"
   ]
  },
  {
   "cell_type": "markdown",
   "id": "cc819917",
   "metadata": {},
   "source": [
    "### Fly Matrix"
   ]
  },
  {
   "cell_type": "code",
   "execution_count": 13,
   "id": "maritime-performance",
   "metadata": {},
   "outputs": [],
   "source": [
    "#setting the fly circuit; number of inputs, number of Kenyon cells, and MBONs, and no of odors\n",
    "smell_vector_size = 10;\n",
    "num_smells = 20;\n",
    "num_kcs = 50;\n",
    "num_MBONs = 2;\n",
    "\n",
    "#Setting up the fly connection matrix from PNs to KCs\n",
    "flymat = matrix_generator(smell_vector_size, num_kcs, \"gaussian\", 4, 0.2)\n",
    "\n",
    "#Generate the smell vectots\n",
    "list_of_smell_vectors = []\n",
    "for i in range(num_smells):\n",
    "    list_of_smell_vectors.append(vector_generator(smell_vector_size, \"expon\"))\n",
    "    \n",
    "#Generate the KC responses to the smells\n",
    "list_of_kenyon_cells = []\n",
    "for i in range(num_smells):\n",
    "    list_of_kenyon_cells.append(matrix_multiply(list_of_smell_vectors[i], flymat))\n",
    "#print(list_of_kenyon_cells[1])\n",
    "#print(len(list_of_smell_vectors[1]),len(flymat))"
   ]
  },
  {
   "cell_type": "markdown",
   "id": "c4cf38c1",
   "metadata": {},
   "source": [
    "### Calculate APL Constant"
   ]
  },
  {
   "cell_type": "code",
   "execution_count": 14,
   "id": "yellow-intervention",
   "metadata": {},
   "outputs": [
    {
     "ename": "NameError",
     "evalue": "name 'list_of_kenyon_celloutputs' is not defined",
     "output_type": "error",
     "traceback": [
      "\u001b[1;31m---------------------------------------------------------------------------\u001b[0m",
      "\u001b[1;31mNameError\u001b[0m                                 Traceback (most recent call last)",
      "\u001b[1;32m<ipython-input-14-35923ec6e1d8>\u001b[0m in \u001b[0;36m<module>\u001b[1;34m\u001b[0m\n\u001b[0;32m     11\u001b[0m     \u001b[1;32mreturn\u001b[0m\u001b[1;33m(\u001b[0m\u001b[0mres\u001b[0m\u001b[1;33m)\u001b[0m\u001b[1;33m\u001b[0m\u001b[1;33m\u001b[0m\u001b[0m\n\u001b[0;32m     12\u001b[0m \u001b[1;31m#CalAPLconstant(50,1000,5,\"gaussian\")\u001b[0m\u001b[1;33m\u001b[0m\u001b[1;33m\u001b[0m\u001b[1;33m\u001b[0m\u001b[0m\n\u001b[1;32m---> 13\u001b[1;33m \u001b[0mCalAPLconstant\u001b[0m\u001b[1;33m(\u001b[0m\u001b[0mlist_of_kenyon_celloutputs\u001b[0m\u001b[1;33m[\u001b[0m\u001b[1;36m0\u001b[0m\u001b[1;33m]\u001b[0m\u001b[1;33m,\u001b[0m \u001b[1;36m5\u001b[0m\u001b[1;33m)\u001b[0m\u001b[1;33m\u001b[0m\u001b[1;33m\u001b[0m\u001b[0m\n\u001b[0m\u001b[0;32m     14\u001b[0m \u001b[1;31m#print(CalAPLconstant(list_of_kenyon_celloutputs[0], 5))\u001b[0m\u001b[1;33m\u001b[0m\u001b[1;33m\u001b[0m\u001b[1;33m\u001b[0m\u001b[0m\n",
      "\u001b[1;31mNameError\u001b[0m: name 'list_of_kenyon_celloutputs' is not defined"
     ]
    }
   ],
   "source": [
    "#Takes an array of KC cells, and then calculates the APL constant using the following algorithm\n",
    "#Gets the topn percentil number. Then apl constant is topn number/mean(kc cells)\n",
    "def CalAPLconstant(kcout, topn):\n",
    "    kc = kcout\n",
    "    kcsort = np.sort(kc)\n",
    "    posn = (1-(topn/100))*len(kcsort) - 1 #0-base, substract 1\n",
    "    posn = int(posn)\n",
    "    aplval = kcsort[posn]\n",
    "    #print(aplval,posn)\n",
    "    res = aplval/np.mean(kcout)\n",
    "    return(res)\n",
    "#CalAPLconstant(50,1000,5,\"gaussian\")\n",
    "CalAPLconstant(list_of_kenyon_celloutputs[0], 5)\n",
    "#print(CalAPLconstant(list_of_kenyon_celloutputs[0], 5))"
   ]
  },
  {
   "cell_type": "code",
   "execution_count": 15,
   "id": "75598c79",
   "metadata": {},
   "outputs": [
    {
     "name": "stdout",
     "output_type": "stream",
     "text": [
      "1.0316420359815086\n",
      "20\n",
      "[0.         0.         0.         0.         0.         0.\n",
      " 0.         0.         0.         0.         0.         0.\n",
      " 0.         0.         0.         0.         0.         0.\n",
      " 0.         0.         0.         0.         0.44331118 0.\n",
      " 0.         0.         0.         0.         0.         1.11296356\n",
      " 0.         0.         0.         0.         0.         0.\n",
      " 0.         0.         0.         0.         0.         0.\n",
      " 0.         0.         0.         0.         0.         0.\n",
      " 0.         0.        ]\n"
     ]
    }
   ],
   "source": [
    "list_of_kenyon_celloutputs = []\n",
    "#KC outputs without APL\n",
    "for i in range(num_smells):\n",
    "    temp = CalKCOutput(list_of_kenyon_cells[i],1.0242)\n",
    "    list_of_kenyon_celloutputs.append(temp[0])\n",
    "#print(len(list_of_kenyon_celloutputs) )   \n",
    "#print(CalAPLconstant(list_of_kenyon_celloutputs[0], 5))\n",
    "\n",
    "#calculates the APL constant which will have only the top 5 % firing\n",
    "list_of_APL = []\n",
    "for i in range(num_smells):\n",
    "    list_of_APL.append(CalAPLconstant(list_of_kenyon_celloutputs[i], 5))\n",
    "print (sum(list_of_APL)/len(list_of_APL))\n",
    "\n",
    "#now calculates the KC output with APL\n",
    "apl_gain_constant = sum(list_of_APL)/len(list_of_APL)\n",
    "list_of_kenyon_celloutputs = []\n",
    "for i in range(num_smells):\n",
    "    temp = CalKCOutput(list_of_kenyon_cells[i],apl_gain_constant)\n",
    "    temp1 = temp[1]\n",
    "    temp1[temp1 < 0] = 0\n",
    "    list_of_kenyon_celloutputs.append(temp1)\n",
    "\n",
    "print(len(list_of_kenyon_celloutputs))\n",
    "#print(list_of_kenyon_cells[2])\n",
    "print(list_of_kenyon_celloutputs[1])\n",
    "#CalKCOutput(list_of_kenyon_cells[2],apl_gain_constant)"
   ]
  },
  {
   "cell_type": "code",
   "execution_count": 16,
   "id": "94be4643",
   "metadata": {},
   "outputs": [],
   "source": [
    "#setup the matrix between KCs and MBONs\n",
    "list_of_KC_matrix = []\n",
    "number_MBONs = 2\n",
    "\n",
    "kcmbon_mat = matrix_generator(num_kcs, number_MBONs, 'gamma', shape=1.44, scale=0.12)\n",
    "#list_of_KC_matrix.append(kcmat)\n",
    "\n",
    "#print(list_of_KC_matrix)\n",
    "#print(matrix_multiply(list_of_kenyon_celloutputs[1],kcmbon_mat ))"
   ]
  },
  {
   "cell_type": "code",
   "execution_count": 17,
   "id": "30f9e3ab",
   "metadata": {},
   "outputs": [
    {
     "name": "stdout",
     "output_type": "stream",
     "text": [
      "[array([0.0633169 , 0.01884392]), array([0.25554216, 0.20936963]), array([0.12463302, 0.01667747]), array([0.05072484, 0.06017417]), array([0.29144591, 0.58602447]), array([0.12563509, 0.20437672]), array([0.26349688, 0.56369198]), array([0.05666412, 0.19527563]), array([0.08078304, 0.31406696]), array([0.15480137, 0.30592905]), array([0.1420694 , 0.30776422]), array([0.05853023, 0.09358615]), array([0.49501497, 0.61323761]), array([0.07871227, 0.12491607]), array([0.36895618, 0.73759644]), array([0.21987417, 0.29407594]), array([0.22491914, 0.31385272]), array([0.44973209, 0.23701179]), array([0.14185402, 0.28830849]), array([0.19033636, 0.19975668])]\n"
     ]
    },
    {
     "data": {
      "text/plain": [
       "(20, 2)"
      ]
     },
     "execution_count": 17,
     "metadata": {},
     "output_type": "execute_result"
    }
   ],
   "source": [
    "list_of_mushroom_body_neurons = []\n",
    "for i in range(num_smells):\n",
    "    list_of_mushroom_body_neurons.append(matrix_multiply(list_of_kenyon_celloutputs[i],kcmbon_mat ))\n",
    "\n",
    "print(list_of_mushroom_body_neurons)\n",
    "mbons = np.array(list_of_mushroom_body_neurons)\n",
    "mbons.shape"
   ]
  },
  {
   "cell_type": "code",
   "execution_count": 20,
   "id": "4aef0a83",
   "metadata": {},
   "outputs": [],
   "source": [
    "def DecisionMatrixGen(mbons):\n",
    "    \n",
    "##made decision matrix \n",
    "    decision_matrix = []\n",
    "    for mbon in mbons:\n",
    "##approach column has greater val\n",
    "        if (mbon[0] > mbon[1]):\n",
    "            decision_matrix.append(\"approach\")\n",
    "##avoid column has greater val\n",
    "        elif (mbon[0] < mbon[1]):\n",
    "            decision_matrix.append(\"avoid\")\n",
    "##both column vals are same\n",
    "        else:\n",
    "            decsion_matrix.append(\"stand still\")\n",
    "    return decision_matrix\n",
    "            "
   ]
  },
  {
   "cell_type": "code",
   "execution_count": 21,
   "id": "aae78408",
   "metadata": {},
   "outputs": [
    {
     "name": "stdout",
     "output_type": "stream",
     "text": [
      "['approach', 'approach', 'approach', 'avoid', 'avoid', 'avoid', 'avoid', 'avoid', 'avoid', 'avoid', 'avoid', 'avoid', 'avoid', 'avoid', 'avoid', 'avoid', 'avoid', 'approach', 'avoid', 'avoid']\n"
     ]
    }
   ],
   "source": [
    "print(DecisionMatrixGen(mbons))\n"
   ]
  },
  {
   "cell_type": "code",
   "execution_count": 20,
   "id": "124f61f5",
   "metadata": {},
   "outputs": [],
   "source": [
    "#DANS: 2; reward(5); punish(5)\n",
    "#decision: approach - avoid > 0\n",
    "\n",
    "list_of_outcomes = []\n",
    "for i in range(num_smells):\n",
    "    list_of_outcomes.append(np.subtract())\n",
    "    \n",
    "\n"
   ]
  },
  {
   "cell_type": "code",
   "execution_count": 21,
   "id": "1765c263",
   "metadata": {},
   "outputs": [],
   "source": [
    "\n",
    "#rewards connects to avoid, and punish connects to approach\n",
    "num_reward = 5 #number of reward Dopaminergic neurons\n",
    "reward_mat = matrix_generator(num_reward, 1, 'gamma', shape=1.44, scale=0.12)\n",
    "num_avoid = 5 #number of avoid Dopaminergic neurons\n",
    "avoid_mat = matrix_generator(num_avoid, 1, 'gamma', shape = 1.44, scale = 0.12)"
   ]
  },
  {
   "cell_type": "code",
   "execution_count": null,
   "id": "9a0004d5",
   "metadata": {},
   "outputs": [],
   "source": []
  },
  {
   "cell_type": "code",
   "execution_count": null,
   "id": "027cc245",
   "metadata": {},
   "outputs": [],
   "source": [
    "mean, var = sp.stats.distributions.norm.fit(c)\n",
    "x = np.linspace(-25,25,100)\n",
    "fitted_data = sp.stats.distributions.norm.pdf(x, mean, var)\n",
    "plt.hist(c, density=True)\n",
    "plt.plot(x,fitted_data,'r-')"
   ]
  },
  {
   "cell_type": "code",
   "execution_count": null,
   "id": "82dcad35",
   "metadata": {},
   "outputs": [],
   "source": [
    "0.95*40"
   ]
  },
  {
   "cell_type": "code",
   "execution_count": null,
   "id": "f4e076e3",
   "metadata": {},
   "outputs": [],
   "source": []
  }
 ],
 "metadata": {
  "kernelspec": {
   "display_name": "Python 3",
   "language": "python",
   "name": "python3"
  },
  "language_info": {
   "codemirror_mode": {
    "name": "ipython",
    "version": 3
   },
   "file_extension": ".py",
   "mimetype": "text/x-python",
   "name": "python",
   "nbconvert_exporter": "python",
   "pygments_lexer": "ipython3",
   "version": "3.8.8"
  }
 },
 "nbformat": 4,
 "nbformat_minor": 5
}
